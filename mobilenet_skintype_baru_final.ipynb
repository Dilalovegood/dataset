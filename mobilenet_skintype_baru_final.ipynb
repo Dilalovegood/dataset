{
  "cells": [
    {
      "cell_type": "markdown",
      "metadata": {
        "id": "SVmZ6LCQsIaE"
      },
      "source": [
        "Mengambil Dataset dari Github"
      ]
    },
    {
      "cell_type": "code",
      "execution_count": 1,
      "metadata": {
        "colab": {
          "base_uri": "https://localhost:8080/",
          "height": 0
        },
        "id": "fP4emMzQ6OSG",
        "outputId": "c17fc335-40f7-4104-aea2-1d86816f4617"
      },
      "outputs": [
        {
          "output_type": "stream",
          "name": "stdout",
          "text": [
            "Cloning into 'dataset'...\n",
            "remote: Enumerating objects: 627, done.\u001b[K\n",
            "remote: Counting objects: 100% (627/627), done.\u001b[K\n",
            "remote: Compressing objects: 100% (621/621), done.\u001b[K\n",
            "remote: Total 627 (delta 5), reused 619 (delta 3), pack-reused 0\u001b[K\n",
            "Receiving objects: 100% (627/627), 22.16 MiB | 18.62 MiB/s, done.\n",
            "Resolving deltas: 100% (5/5), done.\n"
          ]
        }
      ],
      "source": [
        "!git clone https://github.com/Dilalovegood/dataset.git"
      ]
    },
    {
      "cell_type": "code",
      "execution_count": 2,
      "metadata": {
        "colab": {
          "base_uri": "https://localhost:8080/",
          "height": 0
        },
        "id": "RRxIe9RtsJ6_",
        "outputId": "a0f4a33b-ba45-415c-cfd0-26e341a09359"
      },
      "outputs": [
        {
          "output_type": "stream",
          "name": "stdout",
          "text": [
            "Colab only includes TensorFlow 2.x; %tensorflow_version has no effect.\n"
          ]
        }
      ],
      "source": [
        "from __future__ import absolute_import, division, print_function, unicode_literals\n",
        "\n",
        "try:\n",
        "    #The Stensorflow_version magic only works in colab.\n",
        "    %tensorflow_version 2.x\n",
        "except Exception:\n",
        "    pass\n",
        "    import numpy as np\n",
        "    import math, os, sys\n",
        "    import itertools\n",
        "\n",
        "    import matplotlib.pyplot as plt\n",
        "    plt.style.use('default')\n",
        "    from scipy import ndimage\n",
        "\n",
        "    from skimage import measure, morphology\n",
        "    from skimage.io import imsave, imread\n",
        "    from skimage.filters import threshold_otsu\n",
        "    from skimage.transform import resize\n",
        "\n",
        "    import tensorflow as tf\n",
        "    from sklearn import svm, datasets\n",
        "    from sklearn.metrics import confusion_matrix\n",
        "    import pandas as pd\n",
        "\n",
        "    !pip install scikit-image\n",
        "    from skimage.io import imread\n",
        "    from skimage.transform import resize\n",
        "\n",
        "    !pip install tensorflow\n",
        "    import tensorflow as tf\n",
        "\n"
      ]
    },
    {
      "cell_type": "markdown",
      "metadata": {
        "id": "UQgiBWZ1sPaY"
      },
      "source": [
        "Mengimpor Dataset\n"
      ]
    },
    {
      "cell_type": "code",
      "execution_count": 3,
      "metadata": {
        "colab": {
          "base_uri": "https://localhost:8080/",
          "height": 0
        },
        "id": "VaNsJUUpsQMI",
        "outputId": "70a07047-940b-4559-cebc-42783987970d"
      },
      "outputs": [
        {
          "output_type": "stream",
          "name": "stdout",
          "text": [
            "test  train\n",
            "dry  normal  oily\n",
            "dry10.jpg\n",
            "dry10_jpg.rf.2cd6e192d2ec68f45484907da467b661.jpg\n",
            "dry10_jpg.rf.7e28090781cc619a4d0b1583f0fb2ae4.jpg\n",
            "dry10_jpg.rf.cee743c4d34635bc8ec127ea86fe09ee.jpg\n",
            "dry11.jpg\n",
            "dry11_jpg.rf.179bc778d7871dcdea427bd3a6643afa.jpg\n",
            "dry11_jpg.rf.54ee1fc7f193638cdacc4cccfb747042.jpg\n",
            "dry11_jpg.rf.c9be194ed824c02f4ce933c8d62e70f4.jpg\n",
            "dry12.jpg\n",
            "dry12_jpg.rf.41b68a8e2622e2b4762361995a0710b0.jpg\n",
            "dry12_jpg.rf.e50924abbbc0b870f6822eb0b18e8dda.jpg\n",
            "dry12_jpg.rf.e8ff3e95b0146a068a71bf08853c8f74.jpg\n",
            "dry13.jpg\n",
            "dry13_jpg.rf.2d1c0d5559cdb3ba21d8688ee5ad59cc.jpg\n",
            "dry13_jpg.rf.d5922723cb375a85b8ca4f5998a14cce.jpg\n",
            "dry13_jpg.rf.fd502e54f4223df386f031e39474236d.jpg\n",
            "dry14.jpg\n",
            "dry14_jpg.rf.3c34a7aab583ff2ad2c61799f29d3660.jpg\n",
            "dry14_jpg.rf.7671149d419d9e92467e87081ac388ec.jpg\n",
            "dry14_jpg.rf.9d4e39c905fce50fdd04f9bb4216e84d.jpg\n",
            "dry15.jpg\n",
            "dry16.jpg\n",
            "dry17.jpg\n",
            "dry18.jpg\n",
            "dry18_jpg.rf.1a693c266f6c9fd8cca8cba6d6074b85.jpg\n",
            "dry18_jpg.rf.453fb1b685225a421e5585a678211c0e.jpg\n",
            "dry18_jpg.rf.b8d061d0a7bc2f5c7054b72dfa685998.jpg\n",
            "dry19.jpg\n",
            "dry19_jpg.rf.18843c561a66bb8049251a48797ac979.jpg\n",
            "dry19_jpg.rf.3ee14ddad180e7fd5414a5c018ebc480.jpg\n",
            "dry19_jpg.rf.d39aa5a624336a998e82ff5fd64d4b8f.jpg\n",
            "dry1.jpg\n",
            "dry1_jpg.rf.002c26afa2f46317059bbd57103bae16.jpg\n",
            "dry1_jpg.rf.a24b51b0a572526b28fe7b2bfcb448ac.jpg\n",
            "dry1_jpg.rf.f390ac329a0469c370e680552a0824cd.jpg\n",
            "dry20.jpg\n",
            "dry20_jpg.rf.2c78e2dceddc9fec7e7ef75e6ae36148.jpg\n",
            "dry20_jpg.rf.5cd84a8fdf039a135ebd9310410aabab.jpg\n",
            "dry20_jpg.rf.ae8d359675ffc827612adc3de6f83d38.jpg\n",
            "dry21.jpg\n",
            "dry21_jpg.rf.04ce55b6c2b9004000f6c77dda3cf168.jpg\n",
            "dry21_jpg.rf.30e2118a9bb196fa4c031dcc851e4496.jpg\n",
            "dry21_jpg.rf.75993a2e46fb24749842f9bf2cca437f.jpg\n",
            "dry22.jpg\n",
            "dry22_jpg.rf.78d8c0a2ba75eb308c13bb39a29f9f32.jpg\n",
            "dry22_jpg.rf.8c37e4915623dea3e273fc6a8ba60024.jpg\n",
            "dry22_jpg.rf.f26b4f2d79a3cf41bda5f281968ed69b.jpg\n",
            "dry23_jpg.rf.0df3fe06353c100196ee891b35b48155.jpg\n",
            "dry23_jpg.rf.1021351e8069f549c00258ec57d65ff1.jpg\n",
            "dry23_jpg.rf.1223d6f474337d01b914911f8d0f29b4.jpg\n",
            "dry25.jpg\n",
            "dry26.jpg\n",
            "dry27.jpg\n",
            "dry27_jpg.rf.7430649c9cd03adb048bc9a80e7cf7ab.jpg\n",
            "dry27_jpg.rf.81421994dd0f821c871a5888c9e4a777.jpg\n",
            "dry27_jpg.rf.ca9e476d9561111da0e11fead1e23100.jpg\n",
            "dry28.jpg\n",
            "dry28_jpg.rf.2b1aab0131125c3cae3d238331aff206.jpg\n",
            "dry28_jpg.rf.a025ddc0236a2ae9bfba94c666069042.jpg\n",
            "dry28_jpg.rf.e90512759b4cb7e33ff319cdfd1f41cb.jpg\n",
            "dry29.jpg\n",
            "dry29_jpg.rf.0f9c57441a59b4fdc875bc98cab1b503.jpg\n",
            "dry29_jpg.rf.181ad54f1803c259a1335617c1dcd531.jpg\n",
            "dry29_jpg.rf.e5159d46598fb60a1decdfde09b7b2ed.jpg\n",
            "dry2.jpg\n",
            "dry30.jpg\n",
            "dry31.jpg\n",
            "dry32.jpg\n",
            "dry32_jpg.rf.1542d227856efbfe1be07e2bfc6d2e2c.jpg\n",
            "dry32_jpg.rf.418b4a842cb75b81cae08cd99bc936e9.jpg\n",
            "dry32_jpg.rf.d889083d3f3f3b38c299ab420df73dd0.jpg\n",
            "dry33.jpg\n",
            "dry34.jpg\n",
            "dry35.jpg\n",
            "dry35_jpg.rf.116a0c679d4aafb8ec506da22c685a67.jpg\n",
            "dry35_jpg.rf.528f8938acdf0bd3e64d8643fe927bf4.jpg\n",
            "dry35_jpg.rf.c005b851d34e45855a7e9930ce78ba48.jpg\n",
            "dry36.jpg\n",
            "dry36_jpg.rf.283223896f107ee2dc871f975cb8e3b4.jpg\n",
            "dry36_jpg.rf.b0eaed41e5d8d8faf6c38dc0a3749b68.jpg\n",
            "dry36_jpg.rf.ddd456ba543612f9738a3fb48fdedc52.jpg\n",
            "dry37.jpg\n",
            "dry37_jpg.rf.18743bea2cf3a932aef161bb30fb8088.jpg\n",
            "dry37_jpg.rf.c26df8b1fa88f4dd160beddcde8926e1.jpg\n",
            "dry37_jpg.rf.d163d81955c772484bebfc440e14c61c.jpg\n",
            "dry38.jpg\n",
            "dry39.jpg\n",
            "dry39_jpg.rf.2c29795fe6c5cd9d4fc52b8c0ae4895a.jpg\n",
            "dry39_jpg.rf.4d37d20683033fd1b32337d4040768fd.jpg\n",
            "dry39_jpg.rf.a4b8cfecdd757619622d589b331e3678.jpg\n",
            "dry3.jpg\n",
            "dry40.jpg\n",
            "dry41.jpg\n",
            "dry42.jpg\n",
            "dry42_jpg.rf.64ccefee1339053a4e57694ae90cf1e5.jpg\n",
            "dry42_jpg.rf.79c7d7f1bda387ff8ca809b732d6b1a8.jpg\n",
            "dry42_jpg.rf.9db0c88f8d7be73b3d4797b3a77ef7f0.jpg\n",
            "dry43_jpg.rf.5cee3ced10dcf5479fe4d6b280410708.jpg\n",
            "dry43_jpg.rf.a3d547f9a15b865234e8a4cb8c7daf2c.jpg\n",
            "dry43_jpg.rf.becf39fc207e38749d7b5ec086743d45.jpg\n",
            "dry44_jpg.rf.6028e7a8e081fba8b1ec187f87c4e670.jpg\n",
            "dry44_jpg.rf.7a492f3da6fd61f94d81217a58c4d066.jpg\n",
            "dry44_jpg.rf.b432468a3d33147a8ecfec1580acabfe.jpg\n",
            "dry45_jpg.rf.1135435898f7eecff95f656771068b89.jpg\n",
            "dry45_jpg.rf.58fb19966d022382f97762c1b218f3cb.jpg\n",
            "dry45_jpg.rf.6013577bd6302ff18cc14f6eae7a8be7.jpg\n",
            "dry47_jpg.rf.05f8332ef9bfd8f280f3e32aba303899.jpg\n",
            "dry47_jpg.rf.4b93c70dc8085a66e2079bc0a50442d8.jpg\n",
            "dry47_jpg.rf.d745042416b49864a9017a63907e8c12.jpg\n",
            "dry49_jpg.rf.694341e1b5e7e263fa91e55a858e20bd.jpg\n",
            "dry49_jpg.rf.e85b8eaa500cb75eed87a6c7d39ff656.jpg\n",
            "dry49_jpg.rf.fd1bdcba2923215ef1645b5a5aafd42d.jpg\n",
            "dry4.jpg\n",
            "dry50_jpg.rf.1e6b55af0063e6c9dcfb261abe24c7ab.jpg\n",
            "dry50_jpg.rf.62731d0368093f80a55eda06e3d5997a.jpg\n",
            "dry50_jpg.rf.c794424466f57828f2c141653db74fb9.jpg\n",
            "dry51_jpg.rf.31a14390f506742e34fe73808f62f41a.jpg\n",
            "dry51_jpg.rf.c408b50a030d63b003111c923d2afd58.jpg\n",
            "dry51_jpg.rf.dbc3b5dab42209c93de442da34b6e318.jpg\n",
            "dry55_jpg.rf.69d24e53fb6db6ee6119fb7802179343.jpg\n",
            "dry55_jpg.rf.70e40a520a3612b10ee18f5d4a5f9ab1.jpg\n",
            "dry55_jpg.rf.d65731b7e560939846231939aa7e47c2.jpg\n",
            "dry56_jpg.rf.1330bf72887f29941b26e2441ec44011.jpg\n",
            "dry56_jpg.rf.64fe7b160c2f38bc1caa96e27a535f42.jpg\n",
            "dry56_jpg.rf.bbe41d7c09d1cf7b7e5c0c4f249bf16f.jpg\n",
            "dry57_jpg.rf.516728328b2cfd41b5e45906b205736f.jpg\n",
            "dry5.jpg\n",
            "dry5_jpg.rf.82ac439325b183f3a1029f1d3168a2d1.jpg\n",
            "dry5_jpg.rf.8c110be463188540a03ee33e6e8b2cdb.jpg\n",
            "dry5_jpg.rf.9209bba9bb9917b78e9d43aeb1326af5.jpg\n",
            "dry6.jpg\n",
            "dry6_jpg.rf.8e195df8d1ab54cafa4a66234cb96693.jpg\n",
            "dry6_jpg.rf.c5960b96faeb667b8f008c7f1213d8b2.jpg\n",
            "dry6_jpg.rf.f4b528da323268eeca990422f58f560a.jpg\n",
            "dry7.jpg\n",
            "dry8.jpg\n",
            "dry9.jpg\n",
            "dry9_jpg.rf.cdf59be219daa9651e39ebc5c6561c07.jpg\n",
            "dry9_jpg.rf.cdfda261988e7fcd017f0c4fabb4af57.jpg\n",
            "dry9_jpg.rf.dfde987b3c012856e0df312872fc5719.jpg\n",
            "normal10.jpg\n",
            "normal11.jpg\n",
            "Normal11_jpg.rf.8684cb409f4373cb8af6d02c6c3771c0.jpg\n",
            "Normal11_jpg.rf.e03110e3d501e5c1e607e1baa954160a.jpg\n",
            "normal12.jpg\n",
            "normal13.jpg\n",
            "Normal13_jpg.rf.19bf60042603e0bce8fdbede286c0bf9.jpg\n",
            "Normal13_jpg.rf.65ff7cb28ff9a22044cce5f413e874dd.jpg\n",
            "Normal13_jpg.rf.6a135891820e9485087fbe7e4aa65cd3.jpg\n",
            "normal14.jpg\n",
            "Normal14_jpg.rf.1b8dfb3fa4c8e5dba5bde7dbb37c9f78.jpg\n",
            "Normal14_jpg.rf.44bcc183ef68c3223c6cf47efde237d0.jpg\n",
            "Normal14_jpg.rf.e31737bd8709763040bdc54e84ad3453.jpg\n",
            "Normal15_jpg.rf.1966ad0d4bccf4733a83f82d08ebe9ff.jpg\n",
            "Normal15_jpg.rf.2fd4fae0223f468b40347b86b85d6c33.jpg\n",
            "Normal15_jpg.rf.b746a1156d7920290fd1eca5e633a06e.jpg\n",
            "normal16.jpg\n",
            "normal17.jpg\n",
            "Normal17_jpg.rf.068628afaf180770cb66fa0e2f09cfe0.jpg\n",
            "Normal17_jpg.rf.218c7e294831a1cde9d765141788a131.jpg\n",
            "Normal17_jpg.rf.ab305a82c7a56ef9bfc1aacf32902172.jpg\n",
            "normal18.jpg\n",
            "normal19.jpg\n",
            "normal1.jpg\n",
            "Normal1_jpg.rf.6211911bd6265cff6944f489da1801db.jpg\n",
            "Normal1_jpg.rf.6bf3839a1954a43043c077cccecdf2ea.jpg\n",
            "normal20.jpg\n",
            "normal21.jpg\n",
            "normal22.jpg\n",
            "normal23.jpg\n",
            "normal24.jpg\n",
            "Normal24_jpg.rf.b7d620a87611b0b586787fcee0acb379.jpg\n",
            "Normal24_jpg.rf.c5ec193bc2d2d6ded24a6641617f3768.jpg\n",
            "Normal24_jpg.rf.e8007be77dea535f993308a05e2b0da8.jpg\n",
            "normal25.jpg\n",
            "normal26.jpg\n",
            "normal27.jpg\n",
            "normal28.jpg\n",
            "normal29.jpg\n",
            "Normal29_jpg.rf.08af25f5b46191e0a01ebf7c73482dd0.jpg\n",
            "Normal29_jpg.rf.8338f256a88a75a49be016dc6eb6509d.jpg\n",
            "Normal29_jpg.rf.e29afdf4fac7473ab11a17a99e8b52a3.jpg\n",
            "normal2.jpg\n",
            "Normal2_jpg.rf.9d6dc5617501add81f2635b8686764f1.jpg\n",
            "Normal2_jpg.rf.e6bf3fc7b8578e28dded76f6548717f2.jpg\n",
            "normal30.jpg\n",
            "normal31.jpg\n",
            "normal32.jpg\n",
            "normal33.jpg\n",
            "normal34.jpg\n",
            "normal35.jpg\n",
            "Normal35_jpg.rf.31ca24bdf280da09f924db480239ff07.jpg\n",
            "Normal35_jpg.rf.88dc013e4e9075132c4d95390063d036.jpg\n",
            "Normal35_jpg.rf.f662400f1a631f0f73e68570d30a5ad7.jpg\n",
            "normal36.jpg\n",
            "Normal36_jpg.rf.615cd85f201e7df2de381e814d2de1e5.jpg\n",
            "Normal36_jpg.rf.6560dad587acecae53eda45fc5579cfa.jpg\n",
            "Normal36_jpg.rf.b99c2b609339ffe6cb22b82ca68820a7.jpg\n",
            "Normal37_jpg.rf.0a896b34d1951d6e77110dbc30b69d40.jpg\n",
            "Normal37_jpg.rf.2537719d4f24e7050dbe2b3b26563bfa.jpg\n",
            "Normal37_jpg.rf.c431cd3754372c08cec029955a1280b4.jpg\n",
            "normal38.jpg\n",
            "Normal38_jpg.rf.21b51f0651a9dcd3cf6e071fd6dfb370.jpg\n",
            "Normal38_jpg.rf.9a017aefc99c60aba188b8de1d619a63.jpg\n",
            "Normal38_jpg.rf.9d6770d49d861edf42eee65458e07499.jpg\n",
            "normal39.jpg\n",
            "Normal39_jpg.rf.86ddc258dce1f2dfe2758ace352b9a8e.jpg\n",
            "Normal39_jpg.rf.9d10adbb06897a87ebbc0d8d59bf611a.jpg\n",
            "Normal39_jpg.rf.f3931d55d191afb030aa0cd0988bcfa7.jpg\n",
            "normal3.jpg\n",
            "normal40.jpg\n",
            "normal41.jpg\n",
            "Normal41_jpg.rf.0c9ec8b87bbb03f002e090be4bd64ee8.jpg\n",
            "Normal41_jpg.rf.7f4df823eb1913584980564a211feb65.jpg\n",
            "Normal41_jpg.rf.935182ddb42f602cc136070eb214cd33.jpg\n",
            "normal42.jpg\n",
            "Normal45_jpg.rf.8fbef82436311ce05af446142c74102c.jpg\n",
            "Normal45_jpg.rf.975c4d5ea6ce96c5536af37a6fb2d24a.jpg\n",
            "Normal45_jpg.rf.df8e9f73ed562a50264b2ae5ab931de1.jpg\n",
            "Normal46_jpg.rf.38224a8c835df0366080d4317136c754.jpg\n",
            "Normal46_jpg.rf.7c26d2d725635579f26b37468ea4b16b.jpg\n",
            "Normal46_jpg.rf.ba3fe53dd8093445ba1afcc21214f30c.jpg\n",
            "Normal48_jpg.rf.2fd9e2afe53493155ed27a68484e64e7.jpg\n",
            "Normal48_jpg.rf.a843a3bfe69c24d610748afe0381b9a1.jpg\n",
            "Normal48_jpg.rf.eb8f033c08c42bffaea7cc845b5a06f3.jpg\n",
            "normal4.jpg\n",
            "Normal4_jpg.rf.06c4a684fe0a963796a3858ebcff5ef4.jpg\n",
            "Normal4_jpg.rf.6dcaa5a40fbdb57dd63b75d2925b838e.jpg\n",
            "Normal4_jpg.rf.952bec6e8dc8e9895093845062c984ae.jpg\n",
            "Normal50_jpg.rf.4162fadc5ce25319f33a77d792667217.jpg\n",
            "Normal50_jpg.rf.6c60fde57bb4e030da71a23be85515bc.jpg\n",
            "Normal50_jpg.rf.d6cc0005695e40acde3d070f0f2e95b2.jpg\n",
            "Normal51_jpg.rf.70150a26ab6e28dcac37438cb8f58075.jpg\n",
            "Normal51_jpg.rf.abf019a341cbdeab168c6c5ba9fd145f.jpg\n",
            "Normal51_jpg.rf.c6bf9f2dbb1284930eeca089a592a861.jpg\n",
            "Normal52_jpg.rf.04b697671769b90dd83e2356e4631621.jpg\n",
            "Normal52_jpg.rf.225ea66a8f8a36ed19076c289eff50df.jpg\n",
            "Normal52_jpg.rf.45b3247cd5710a214c90078aa3f757fd.jpg\n",
            "Normal53_jpg.rf.3d8406cef9bd3851dd231ba9401ebe23.jpg\n",
            "Normal53_jpg.rf.5be738c170fc65244d3355e81baed7dc.jpg\n",
            "Normal53_jpg.rf.9acdf2da9f1ae2890007428849054907.jpg\n",
            "Normal56_jpg.rf.37fbbf401fc03fd18cd73b3a93f34ba6.jpg\n",
            "Normal56_jpg.rf.94987827c90aca93b47db79d5d8a56e0.jpg\n",
            "Normal56_jpg.rf.ecea6acf854db9c3b30348c8c5edbae2.jpg\n",
            "Normal59_jpg.rf.126c31b21776240321045eb700feb9c1.jpg\n",
            "Normal59_jpg.rf.1cb78c88d34d53a641e7fdf317af7ddc.jpg\n",
            "Normal59_jpg.rf.ff90528d425436219477f5f12e68dad3.jpg\n",
            "normal5.jpg\n",
            "Normal5_jpg.rf.731318cbe7f1e22532def91efa5a2747.jpg\n",
            "Normal5_jpg.rf.aa8aa1eb5d4eea7d5332bb56a86357f5.jpg\n",
            "Normal5_jpg.rf.ee4c361295f1a8365105b939d8d30d37.jpg\n",
            "Normal62_jpg.rf.2c0c26f71b420e9e6bfeb06b70f0835d.jpg\n",
            "Normal62_jpg.rf.31b6d82e615fed3acf161a1651dba85d.jpg\n",
            "Normal62_jpg.rf.b0298e41ca594c4c27b9f611cdc33103.jpg\n",
            "Normal64_jpg.rf.3e7fbefbb5da7d84e9623803b5cd90cf.jpg\n",
            "Normal64_jpg.rf.a987e7d3d8dd0d902a8305278bec1cce.jpg\n",
            "Normal64_jpg.rf.dadb0775ace58ec5af1fb4a416d523fc.jpg\n",
            "Normal65_jpg.rf.1c2d24e415eae22500c7768eec906310.jpg\n",
            "Normal65_jpg.rf.1ecbdeb96d7da50b110f3f045e2c288e.jpg\n",
            "Normal65_jpg.rf.79cc434381dace01523e6d52669d5f63.jpg\n",
            "Normal69_jpg.rf.7732768bec5666416b7fb384afda672d.jpg\n",
            "Normal69_jpg.rf.813a2a67e2719172347c30797b95d6d1.jpg\n",
            "Normal69_jpg.rf.8c6247c624191cb0f21ba114c8fc19cf.jpg\n",
            "normal6.jpg\n",
            "Normal6_jpg.rf.7b66465ed68592cd53debda01e993da3.jpg\n",
            "Normal6_jpg.rf.bf4b8c6ffdb654eacc11c9bf6c0a0282.jpg\n",
            "Normal6_jpg.rf.ee8ac0464070f78280e9cc81815008bc.jpg\n",
            "Normal71_jpg.rf.445dc2e9f595643aa456232cbea11d2e.jpg\n",
            "Normal71_jpg.rf.7c7c0f900a0433563e50e0d32d864a55.jpg\n",
            "Normal71_jpg.rf.e16afba65a7c985652ed2c57dbdd9726.jpg\n",
            "Normal72_jpg.rf.03a7fefe95a499f7bfc838242d432bd9.jpg\n",
            "Normal72_jpg.rf.a6ea1d147a20704b1c009ea8ade3060b.jpg\n",
            "Normal72_jpg.rf.b236106ab3cd990198dd31af42dd7571.jpg\n",
            "Normal73_jpg.rf.011443322193de6250946e5b4abafdcc.jpg\n",
            "Normal73_jpg.rf.3385606fc25dbd5a79c457d2d9fba37d.jpg\n",
            "Normal73_jpg.rf.d407aff33bc2165aa9a98c3832417e5f.jpg\n",
            "Normal75_jpg.rf.3a37a01723ddb0bf97b76b0c2587fd2b.jpg\n",
            "normal7.jpg\n",
            "normal8.jpg\n",
            "normal9.jpg\n",
            "Berminyak10_jpg.rf.b31bcac7210f05c5ab7a02e9997d26d7.jpg\n",
            "Berminyak10_jpg.rf.e17782a99e8eddf21f4af5354ef5e576.jpg\n",
            "Berminyak10_jpg.rf.ea8dee48bfec47962ff4d35a5f02dc04.jpg\n",
            "Berminyak11_jpg.rf.aaa1959f23c8b5824f44951eca2fc770.jpg\n",
            "Berminyak11_jpg.rf.e50bed7aca578d0c55afbddd8b4102a0.jpg\n",
            "Berminyak11_jpg.rf.edc3ced85e8047ee7e6514df6e442b29.jpg\n",
            "Berminyak12_jpg.rf.5712c1d674e8e446b956aae69c71efa3.jpg\n",
            "Berminyak12_jpg.rf.b69b6547f0e51b5f702d0f26207a05ef.jpg\n",
            "Berminyak16_jpg.rf.02fef65063c98957daf83468f8559586.jpg\n",
            "Berminyak16_jpg.rf.65a78eb53a8e3a1d9826956a4c3b6e3c.jpg\n",
            "Berminyak16_jpg.rf.9745a72cd4f4792aff6d1ff451ecc3a8.jpg\n",
            "Berminyak17_jpg.rf.0515f97592479dbfa56724932325bfcd.jpg\n",
            "Berminyak17_jpg.rf.7ba6ca59a92e7f5df12f294f7e774fd3.jpg\n",
            "Berminyak17_jpg.rf.ff044d19415c9d29faa05c353e4d7b12.jpg\n",
            "Berminyak18_jpg.rf.1fc29e94e9c77b981f9e94ddac7c4964.jpg\n",
            "Berminyak18_jpg.rf.8640391f9327b807f1dc7559c18be229.jpg\n",
            "Berminyak19_jpg.rf.4fc8c7332fda565002eb8a44e3e6591f.jpg\n",
            "Berminyak19_jpg.rf.7f1c117b831478cfabeac61f598fe7ee.jpg\n",
            "Berminyak19_jpg.rf.c9451440582064cfe265f17ab7410041.jpg\n",
            "Berminyak1_jpg.rf.5758b0c6e2d2296bbe1d699f474b71e6.jpg\n",
            "Berminyak1_jpg.rf.b9860eeba3afb6580211115be6c70bc5.jpg\n",
            "Berminyak1_jpg.rf.d4357c4a9ad9582f23c51810639895f5.jpg\n",
            "Berminyak20_jpg.rf.5e61b15b7402cf567d218d0425461f4c.jpg\n",
            "Berminyak20_jpg.rf.5ef223235310e8fdd34f01f71d00061d.jpg\n",
            "Berminyak20_jpg.rf.6196ff72d6bcc4e859fe2ab027f68337.jpg\n",
            "Berminyak21_jpg.rf.47c7c2c8543300079aafb28a911c202c.jpg\n",
            "Berminyak21_jpg.rf.df9e1e6029dbc9707a934f929052f655.jpg\n",
            "Berminyak21_jpg.rf.eb44a6c4e18b6126c51a49abe8d71404.jpg\n",
            "Berminyak22_jpg.rf.30ca57ad89fc50801e334d0c51b7d2c7.jpg\n",
            "Berminyak22_jpg.rf.a63f587ea6b14df59fc62229d4240065.jpg\n",
            "Berminyak23_jpg.rf.04339bc6f335d7be35f335e9e340e82a.jpg\n",
            "Berminyak23_jpg.rf.25e68488c8a9726f8bc80cd0a7021c93.jpg\n",
            "Berminyak23_jpg.rf.50aff8bf41c2c4ee2fb35a9eaee0d30c.jpg\n",
            "Berminyak26_jpg.rf.bb243fb23c4c2f434746372378c7649b.jpg\n",
            "Berminyak26_jpg.rf.e8cca79a25fdc8cfd821fb43a9723cf9.jpg\n",
            "Berminyak26_jpg.rf.fdf2a7d4c4b9afee8667a34f0a4298aa.jpg\n",
            "Berminyak29_jpg.rf.5c54a2d7709911f7531a7da4b5841d94.jpg\n",
            "Berminyak29_jpg.rf.eb7f514eeae99e10eec7574e2f2900a6.jpg\n",
            "Berminyak2_jpg.rf.a24fb12518a5c698fefa73d027d36dce.jpg\n",
            "Berminyak2_jpg.rf.cc746dc6d31277c1400a02886d5ac19c.jpg\n",
            "Berminyak2_jpg.rf.db06aeeb98673b82a07799fa3a646208.jpg\n",
            "Berminyak30_jpg.rf.19f9e18964d4b8c110f9482a750216e6.jpg\n",
            "Berminyak30_jpg.rf.bfdcfef453d92a8e6febc3e5a0a535ae.jpg\n",
            "Berminyak30_jpg.rf.d58149c27dac703090e78e465ee2d88f.jpg\n",
            "Berminyak33_jpg.rf.29398757d3df5da94a41de9d43ee13df.jpg\n",
            "Berminyak33_jpg.rf.aef6a406bdb9b41aaac4f93c06031bd0.jpg\n",
            "Berminyak33_jpg.rf.b4dc5e63e836ca2006178420519aa7bd.jpg\n",
            "Berminyak34_jpg.rf.044157dcd5c8145f2e1358ca32db78ee.jpg\n",
            "Berminyak34_jpg.rf.140201423e0698b44eb5e335beedc372.jpg\n",
            "Berminyak34_jpg.rf.46c9a02cd408b27affd3605a2fb95dfa.jpg\n",
            "Berminyak35_jpg.rf.3ed3bd99d3465d279573796d9e4e4536.jpg\n",
            "Berminyak35_jpg.rf.846a06e4e46d120acaa96ae19656865b.jpg\n",
            "Berminyak35_jpg.rf.a66e9c4d9bcf969824bb4450f6c20a57.jpg\n",
            "Berminyak37_jpg.rf.470d94d52972687db5c9264b23506143.jpg\n",
            "Berminyak37_jpg.rf.8115a2233b62045f549aa3375233b53f.jpg\n",
            "Berminyak37_jpg.rf.fa0543f9ffd0ee674793973a9f87e8c8.jpg\n",
            "Berminyak38_jpg.rf.10d18d5d37b1430c755a2dc1193b227c.jpg\n",
            "Berminyak38_jpg.rf.872333b9882f8b353b86bb43e712565e.jpg\n",
            "Berminyak38_jpg.rf.c53b921f8eea01042d09c21f87cbf79e.jpg\n",
            "Berminyak39_jpg.rf.1656b4adce5200fb1f776c1a82fbbbfa.jpg\n",
            "Berminyak39_jpg.rf.174adae2e7320913ca2580def2c1e4a6.jpg\n",
            "Berminyak39_jpg.rf.b0b43e142651fbfe4cc88c8f3afc1573.jpg\n",
            "Berminyak3_jpg.rf.8df8058b92e0145ed928ce1f952a880a.jpg\n",
            "Berminyak3_jpg.rf.d040825c1492332593a25938171acf20.jpg\n",
            "Berminyak3_jpg.rf.e5b50f23e9083f337dd7c5710a4bfbf3.jpg\n",
            "Berminyak41_jpg.rf.5f878b0515baac9d1369bdf3a6624c6e.jpg\n",
            "Berminyak41_jpg.rf.94e84d61c82271fe3bc57fb6f36c9a36.jpg\n",
            "Berminyak41_jpg.rf.a5170f264fe68b1ffe042075db8eb3d0.jpg\n",
            "Berminyak42_jpg.rf.8c06493c54419074b94a671e9276f760.jpg\n",
            "Berminyak42_jpg.rf.b00f4c61c18db5538aba51debaf6c9ad.jpg\n",
            "Berminyak42_jpg.rf.e2c31a06db4d8137faba15d8c109a2bb.jpg\n",
            "Berminyak43_jpg.rf.31905df5407176dc34b4ef5a0b88507b.jpg\n",
            "Berminyak43_jpg.rf.668b9239f05b5bc7a3d53d831229e213.jpg\n",
            "Berminyak43_jpg.rf.89026c0ac55c4547f047158329397f6e.jpg\n",
            "Berminyak44_jpg.rf.08afc25401a3c59dcc41e8c9235ac5fc.jpg\n",
            "Berminyak44_jpg.rf.5fa8ee49366061a6c7b916528bf5b723.jpg\n",
            "Berminyak44_jpg.rf.fb417f6eedea5186cc57e2a8a366ff79.jpg\n",
            "Berminyak48_jpg.rf.7bc24e46aefc290c41fcfbc7e87d1b27.jpg\n",
            "Berminyak48_jpg.rf.ce42357c0d0ae3c05009a6946c87a994.jpg\n",
            "Berminyak48_jpg.rf.da954255abd9c44a6b2604e188a96d67.jpg\n",
            "Berminyak49_jpg.rf.f3bc79d7d5384d6a3c59db8ea5e6ad6e.jpg\n",
            "Berminyak4_jpg.rf.341c8eb4fa14003a4c016ad0096c960c.jpg\n",
            "Berminyak4_jpg.rf.3be040780d07118af5ad8d2b88415596.jpg\n",
            "Berminyak4_jpg.rf.bb7dc84ace253bd113ef9dc38be774a9.jpg\n",
            "Berminyak50_jpg.rf.5b90a277dff8c69205e2d235e7b27f02.jpg\n",
            "Berminyak52_jpg.rf.513cf2398ebc58dc5301d2cc8aac2c55.jpg\n",
            "Berminyak52_jpg.rf.9806086fb176de96963ab89c63196e35.jpg\n",
            "Berminyak52_jpg.rf.b3d106222b0253aefd32fdabae5f06fc.jpg\n",
            "Berminyak53_jpg.rf.4311166b7bdf7507ef9dd5a9e81df115.jpg\n",
            "Berminyak53_jpg.rf.9105c9406006115336208f881c032d55.jpg\n",
            "Berminyak53_jpg.rf.ea7b8545d5ae24b5157d7e21e70adf05.jpg\n",
            "Berminyak54_jpg.rf.3863451bc356e17226709088ea86faeb.jpg\n",
            "Berminyak54_jpg.rf.8014fb122d4c2dec2b518d10b94ea92f.jpg\n",
            "Berminyak54_jpg.rf.ab2c5b18236cdc9e022e7bd4b2c5350f.jpg\n",
            "Berminyak5_jpg.rf.86e62ad7983b6ae34e9c8b7bcdde01f4.jpg\n",
            "Berminyak7_jpg.rf.877970fa99549cbd0deec5b5fe57dc4c.jpg\n",
            "Berminyak7_jpg.rf.ba386a4fca0c215320fd7eb3b18aaa90.jpg\n",
            "Berminyak7_jpg.rf.d35a487edd600d252c120a6dafd48fe0.jpg\n",
            "Berminyak8_jpg.rf.29d3f242e5ef06303dfabc9f2e91c51c.jpg\n",
            "Berminyak8_jpg.rf.f69f7d07cba4c2a2d98210accf3b9e38.jpg\n",
            "oily10.jpg\n",
            "oily11.jpg\n",
            "oily12.jpg\n",
            "oily13.jpg\n",
            "oily14.jpg\n",
            "oily15.jpg\n",
            "oily16.jpg\n",
            "oily17.jpg\n",
            "oily18.jpg\n",
            "oily19.jpg\n",
            "oily1.jpg\n",
            "oily21.jpg\n",
            "oily22.jpg\n",
            "oily23.jpg\n",
            "oily24.jpg\n",
            "oily25.jpg\n",
            "oily26.jpg\n",
            "oily27.jpg\n",
            "oily28.jpg\n",
            "oily29.jpg\n",
            "oily2.jpg\n",
            "oily30.jpg\n",
            "oily31.jpg\n",
            "oily32.jpg\n",
            "oily33.jpg\n",
            "oily34.jpg\n",
            "oily35.jpg\n",
            "oily36.jpg\n",
            "oily37.jpg\n",
            "oily38.jpg\n",
            "oily39.jpg\n",
            "oily3.jpg\n",
            "oily40.jpg\n",
            "oily41.jpg\n",
            "oily4.jpg\n",
            "oily5.jpg\n",
            "oily6.jpg\n",
            "oily7.jpg\n",
            "oily8.jpg\n",
            "oily9.jpg\n"
          ]
        }
      ],
      "source": [
        "#Perintah di bawah ini untuk melihat list bagian dari file yang sudah diunduh dari Github\n",
        "\n",
        "!ls dataset/image\n",
        "!ls dataset/image/train\n",
        "#!ls dataset/image/train/acne\n",
        "!ls dataset/image/train/dry\n",
        "!ls dataset/image/train/normal\n",
        "!ls dataset/image/train/oily"
      ]
    },
    {
      "cell_type": "code",
      "execution_count": 4,
      "metadata": {
        "colab": {
          "base_uri": "https://localhost:8080/",
          "height": 295
        },
        "id": "RmxBWWIEsSMY",
        "outputId": "9d1811c6-b863-4b64-ebf2-d86d9f1a3470"
      },
      "outputs": [
        {
          "output_type": "stream",
          "name": "stderr",
          "text": [
            "<ipython-input-4-e3f6fa9ad3c0>:5: DeprecationWarning: Starting with ImageIO v3 the behavior of this function will switch to that of iio.v3.imread. To keep the current behavior (and make this warning disappear) use `import imageio.v2 as imageio` or call `imageio.v2.imread` directly.\n",
            "  image = imageio.imread(\"dataset/image/train/oily/oily41.jpg\")\n"
          ]
        },
        {
          "output_type": "execute_result",
          "data": {
            "text/plain": [
              "<matplotlib.image.AxesImage at 0x7e0e54744700>"
            ]
          },
          "metadata": {},
          "execution_count": 4
        },
        {
          "output_type": "display_data",
          "data": {
            "text/plain": [
              "<Figure size 300x300 with 1 Axes>"
            ],
            "image/png": "[encoded data removed]"
          },
          "metadata": {}
        }
      ],
      "source": [
        "import imageio\n",
        "import matplotlib.pyplot as plt\n",
        "\n",
        "#Perintah untuk memvisualisasikan satu gambar dari data train\n",
        "image = imageio.imread(\"dataset/image/train/oily/oily41.jpg\")\n",
        "plt.figure(figsize=(3,3))\n",
        "plt.imshow(image)"
      ]
    },
    {
      "cell_type": "code",
      "execution_count": 5,
      "metadata": {
        "colab": {
          "base_uri": "https://localhost:8080/",
          "height": 0
        },
        "id": "pcW26L-ssTrX",
        "outputId": "2a1fc475-15a0-4776-a47d-6513bc443fd7"
      },
      "outputs": [
        {
          "output_type": "stream",
          "name": "stdout",
          "text": [
            "Found 336 images belonging to 3 classes.\n",
            "Found 84 images belonging to 3 classes.\n",
            "Bentuk array dari dataset train (pelatihan) adalah: (128, 224, 224, 3) (128, 3)\n",
            "Bentuk array dari dataset validation (validasi) adalah: (84, 224, 224, 3) (84, 3)\n",
            "Bentuk array dari dataset test (pengujian) adalah: (420, 224, 224, 3) (420,)\n"
          ]
        }
      ],
      "source": [
        "#Memuat semua gambar ke memori untuk pertama kali\n",
        "#Memuat dataset pelatihan\n",
        "import os\n",
        "import numpy as np\n",
        "import tensorflow as tf\n",
        "from skimage.transform import resize\n",
        "\n",
        "IMAGE_SIZE = 224\n",
        "BATCH_SIZE = 128\n",
        "base_dir = os.path.join('dataset/image/train')\n",
        "\n",
        "datagen = tf.keras.preprocessing.image.ImageDataGenerator(\n",
        "    rescale = 1./255,\n",
        "    validation_split = 0.2)\n",
        "\n",
        "train_generator = datagen.flow_from_directory(\n",
        "    base_dir,\n",
        "    target_size = (IMAGE_SIZE, IMAGE_SIZE),\n",
        "    batch_size = BATCH_SIZE,\n",
        "    class_mode = 'categorical',\n",
        "    subset='training')\n",
        "\n",
        "val_generator = datagen.flow_from_directory(\n",
        "    base_dir,\n",
        "    target_size=(IMAGE_SIZE, IMAGE_SIZE),\n",
        "    batch_size = BATCH_SIZE,\n",
        "    class_mode = 'categorical',\n",
        "    subset ='validation')\n",
        "\n",
        "#Memuat dataset pengujian\n",
        "\n",
        "X_test = []\n",
        "y_test = []\n",
        "#labels = ['acne', 'dry', 'normal', 'oily']\n",
        "'''\n",
        "for i, label in enumerate(labels):\n",
        "    folder = os.path.join(\"dataset/image/test\", label)\n",
        "    files = sorted(os.listdir(folder))\n",
        "    files = [x for x in files if x.endswith(\".jpg\")]\n",
        "    for k,file in enumerate(files):\n",
        "        image_path = os.path.join(folder, file)\n",
        "\n",
        "        image = imread(image_path)/255.\n",
        "        image = resize(image, (224, 224, 3))\n",
        "        X_test.append(image)\n",
        "\n",
        "        category = os.path.split(folder)[-1]\n",
        "        y_test.append(i)\n",
        "\n",
        "X_test = np.array(X_test)\n",
        "y_test = np.array(y_test)\n",
        "\n",
        "'''\n",
        "\n",
        "\n",
        "for folder in os.listdir(base_dir):\n",
        "    folder_path = os.path.join(base_dir, folder)\n",
        "    if not os.path.isdir(folder_path):\n",
        "        continue\n",
        "\n",
        "    for image_file in os.listdir(folder_path):\n",
        "        image_path = os.path.join(folder_path, image_file)\n",
        "\n",
        "        image = tf.keras.preprocessing.image.load_img(image_path)\n",
        "        image = tf.keras.preprocessing.image.img_to_array(image) / 255.\n",
        "        image = tf.image.resize(image, (224, 224))  # Menggunakan tf.image.resize\n",
        "        X_test.append(image)\n",
        "\n",
        "        category = os.path.split(folder)[-1]\n",
        "        y_test.append(category)\n",
        "\n",
        "X_test = np.array(X_test)\n",
        "y_test = np.array(y_test)\n",
        "\n",
        "#Menampilkan bentuk dari masing-masing dataset\n",
        "for image_batch, label_batch in train_generator:\n",
        "    break\n",
        "print(\"Bentuk array dari dataset train (pelatihan) adalah:\", image_batch.shape, label_batch.shape)\n",
        "\n",
        "for image_batch, label_batch in val_generator:\n",
        "    break\n",
        "\n",
        "print(\"Bentuk array dari dataset validation (validasi) adalah:\", image_batch.shape, label_batch.shape)\n",
        "print(\"Bentuk array dari dataset test (pengujian) adalah:\", X_test.shape, y_test.shape)"
      ]
    },
    {
      "cell_type": "markdown",
      "metadata": {
        "id": "N4vHv7VYsbsE"
      },
      "source": [
        "Menyimpan Label\n"
      ]
    },
    {
      "cell_type": "code",
      "execution_count": 6,
      "metadata": {
        "colab": {
          "base_uri": "https://localhost:8080/",
          "height": 0
        },
        "id": "aGpGsZn0sYL7",
        "outputId": "8754adf4-f402-4ff6-cef9-4efb23eb89d5"
      },
      "outputs": [
        {
          "output_type": "stream",
          "name": "stdout",
          "text": [
            "{'dry': 0, 'normal': 1, 'oily': 2}\n"
          ]
        }
      ],
      "source": [
        "print (train_generator.class_indices)\n",
        "\n",
        "labels_txt= '\\n'.join(sorted (train_generator.class_indices.keys()))\n",
        "\n",
        "with open('labels.txt', 'w') as f:\n",
        "    f.write(labels_txt)"
      ]
    },
    {
      "cell_type": "markdown",
      "metadata": {
        "id": "YEeWSKuCsjhy"
      },
      "source": [
        "Membuat Model dari Jaringan CNN yang Sudah dipelajari Sebelumnya (pre- trained convnets)"
      ]
    },
    {
      "cell_type": "code",
      "execution_count": 7,
      "metadata": {
        "id": "Dci4ayCzse6D",
        "colab": {
          "base_uri": "https://localhost:8080/",
          "height": 0
        },
        "outputId": "5e820ba6-b639-427d-f643-f49d6e31cd2d"
      },
      "outputs": [
        {
          "output_type": "stream",
          "name": "stdout",
          "text": [
            "Downloading data from https://storage.googleapis.com/tensorflow/keras-applications/mobilenet/mobilenet_1_0_224_tf_no_top.h5\n",
            "17225924/17225924 [==============================] - 0s 0us/step\n"
          ]
        }
      ],
      "source": [
        "IMG_SHAPE = (224, 224, 3)\n",
        "#Membuat nodel dasar (base model) dari pre-trained model Mobilefiet\n",
        "base_model = tf.keras.applications.MobileNet(input_shape=IMG_SHAPE,\n",
        "                                             include_top = False,\n",
        "                                             weights = 'imagenet')"
      ]
    },
    {
      "cell_type": "code",
      "execution_count": 8,
      "metadata": {
        "colab": {
          "base_uri": "https://localhost:8080/",
          "height": 0
        },
        "id": "Jgn2QLtcskWi",
        "outputId": "9a5cee17-b31b-4e18-e459-b115f5a4e2cf"
      },
      "outputs": [
        {
          "output_type": "stream",
          "name": "stdout",
          "text": [
            "Model: \"mobilenet_1.00_224\"\n",
            "_________________________________________________________________\n",
            " Layer (type)                Output Shape              Param #   \n",
            "=================================================================\n",
            " input_1 (InputLayer)        [(None, 224, 224, 3)]     0         \n",
            "                                                                 \n",
            " conv1 (Conv2D)              (None, 112, 112, 32)      864       \n",
            "                                                                 \n",
            " conv1_bn (BatchNormalizati  (None, 112, 112, 32)      128       \n",
            " on)                                                             \n",
            "                                                                 \n",
            " conv1_relu (ReLU)           (None, 112, 112, 32)      0         \n",
            "                                                                 \n",
            " conv_dw_1 (DepthwiseConv2D  (None, 112, 112, 32)      288       \n",
            " )                                                               \n",
            "                                                                 \n",
            " conv_dw_1_bn (BatchNormali  (None, 112, 112, 32)      128       \n",
            " zation)                                                         \n",
            "                                                                 \n",
            " conv_dw_1_relu (ReLU)       (None, 112, 112, 32)      0         \n",
            "                                                                 \n",
            " conv_pw_1 (Conv2D)          (None, 112, 112, 64)      2048      \n",
            "                                                                 \n",
            " conv_pw_1_bn (BatchNormali  (None, 112, 112, 64)      256       \n",
            " zation)                                                         \n",
            "                                                                 \n",
            " conv_pw_1_relu (ReLU)       (None, 112, 112, 64)      0         \n",
            "                                                                 \n",
            " conv_pad_2 (ZeroPadding2D)  (None, 113, 113, 64)      0         \n",
            "                                                                 \n",
            " conv_dw_2 (DepthwiseConv2D  (None, 56, 56, 64)        576       \n",
            " )                                                               \n",
            "                                                                 \n",
            " conv_dw_2_bn (BatchNormali  (None, 56, 56, 64)        256       \n",
            " zation)                                                         \n",
            "                                                                 \n",
            " conv_dw_2_relu (ReLU)       (None, 56, 56, 64)        0         \n",
            "                                                                 \n",
            " conv_pw_2 (Conv2D)          (None, 56, 56, 128)       8192      \n",
            "                                                                 \n",
            " conv_pw_2_bn (BatchNormali  (None, 56, 56, 128)       512       \n",
            " zation)                                                         \n",
            "                                                                 \n",
            " conv_pw_2_relu (ReLU)       (None, 56, 56, 128)       0         \n",
            "                                                                 \n",
            " conv_dw_3 (DepthwiseConv2D  (None, 56, 56, 128)       1152      \n",
            " )                                                               \n",
            "                                                                 \n",
            " conv_dw_3_bn (BatchNormali  (None, 56, 56, 128)       512       \n",
            " zation)                                                         \n",
            "                                                                 \n",
            " conv_dw_3_relu (ReLU)       (None, 56, 56, 128)       0         \n",
            "                                                                 \n",
            " conv_pw_3 (Conv2D)          (None, 56, 56, 128)       16384     \n",
            "                                                                 \n",
            " conv_pw_3_bn (BatchNormali  (None, 56, 56, 128)       512       \n",
            " zation)                                                         \n",
            "                                                                 \n",
            " conv_pw_3_relu (ReLU)       (None, 56, 56, 128)       0         \n",
            "                                                                 \n",
            " conv_pad_4 (ZeroPadding2D)  (None, 57, 57, 128)       0         \n",
            "                                                                 \n",
            " conv_dw_4 (DepthwiseConv2D  (None, 28, 28, 128)       1152      \n",
            " )                                                               \n",
            "                                                                 \n",
            " conv_dw_4_bn (BatchNormali  (None, 28, 28, 128)       512       \n",
            " zation)                                                         \n",
            "                                                                 \n",
            " conv_dw_4_relu (ReLU)       (None, 28, 28, 128)       0         \n",
            "                                                                 \n",
            " conv_pw_4 (Conv2D)          (None, 28, 28, 256)       32768     \n",
            "                                                                 \n",
            " conv_pw_4_bn (BatchNormali  (None, 28, 28, 256)       1024      \n",
            " zation)                                                         \n",
            "                                                                 \n",
            " conv_pw_4_relu (ReLU)       (None, 28, 28, 256)       0         \n",
            "                                                                 \n",
            " conv_dw_5 (DepthwiseConv2D  (None, 28, 28, 256)       2304      \n",
            " )                                                               \n",
            "                                                                 \n",
            " conv_dw_5_bn (BatchNormali  (None, 28, 28, 256)       1024      \n",
            " zation)                                                         \n",
            "                                                                 \n",
            " conv_dw_5_relu (ReLU)       (None, 28, 28, 256)       0         \n",
            "                                                                 \n",
            " conv_pw_5 (Conv2D)          (None, 28, 28, 256)       65536     \n",
            "                                                                 \n",
            " conv_pw_5_bn (BatchNormali  (None, 28, 28, 256)       1024      \n",
            " zation)                                                         \n",
            "                                                                 \n",
            " conv_pw_5_relu (ReLU)       (None, 28, 28, 256)       0         \n",
            "                                                                 \n",
            " conv_pad_6 (ZeroPadding2D)  (None, 29, 29, 256)       0         \n",
            "                                                                 \n",
            " conv_dw_6 (DepthwiseConv2D  (None, 14, 14, 256)       2304      \n",
            " )                                                               \n",
            "                                                                 \n",
            " conv_dw_6_bn (BatchNormali  (None, 14, 14, 256)       1024      \n",
            " zation)                                                         \n",
            "                                                                 \n",
            " conv_dw_6_relu (ReLU)       (None, 14, 14, 256)       0         \n",
            "                                                                 \n",
            " conv_pw_6 (Conv2D)          (None, 14, 14, 512)       131072    \n",
            "                                                                 \n",
            " conv_pw_6_bn (BatchNormali  (None, 14, 14, 512)       2048      \n",
            " zation)                                                         \n",
            "                                                                 \n",
            " conv_pw_6_relu (ReLU)       (None, 14, 14, 512)       0         \n",
            "                                                                 \n",
            " conv_dw_7 (DepthwiseConv2D  (None, 14, 14, 512)       4608      \n",
            " )                                                               \n",
            "                                                                 \n",
            " conv_dw_7_bn (BatchNormali  (None, 14, 14, 512)       2048      \n",
            " zation)                                                         \n",
            "                                                                 \n",
            " conv_dw_7_relu (ReLU)       (None, 14, 14, 512)       0         \n",
            "                                                                 \n",
            " conv_pw_7 (Conv2D)          (None, 14, 14, 512)       262144    \n",
            "                                                                 \n",
            " conv_pw_7_bn (BatchNormali  (None, 14, 14, 512)       2048      \n",
            " zation)                                                         \n",
            "                                                                 \n",
            " conv_pw_7_relu (ReLU)       (None, 14, 14, 512)       0         \n",
            "                                                                 \n",
            " conv_dw_8 (DepthwiseConv2D  (None, 14, 14, 512)       4608      \n",
            " )                                                               \n",
            "                                                                 \n",
            " conv_dw_8_bn (BatchNormali  (None, 14, 14, 512)       2048      \n",
            " zation)                                                         \n",
            "                                                                 \n",
            " conv_dw_8_relu (ReLU)       (None, 14, 14, 512)       0         \n",
            "                                                                 \n",
            " conv_pw_8 (Conv2D)          (None, 14, 14, 512)       262144    \n",
            "                                                                 \n",
            " conv_pw_8_bn (BatchNormali  (None, 14, 14, 512)       2048      \n",
            " zation)                                                         \n",
            "                                                                 \n",
            " conv_pw_8_relu (ReLU)       (None, 14, 14, 512)       0         \n",
            "                                                                 \n",
            " conv_dw_9 (DepthwiseConv2D  (None, 14, 14, 512)       4608      \n",
            " )                                                               \n",
            "                                                                 \n",
            " conv_dw_9_bn (BatchNormali  (None, 14, 14, 512)       2048      \n",
            " zation)                                                         \n",
            "                                                                 \n",
            " conv_dw_9_relu (ReLU)       (None, 14, 14, 512)       0         \n",
            "                                                                 \n",
            " conv_pw_9 (Conv2D)          (None, 14, 14, 512)       262144    \n",
            "                                                                 \n",
            " conv_pw_9_bn (BatchNormali  (None, 14, 14, 512)       2048      \n",
            " zation)                                                         \n",
            "                                                                 \n",
            " conv_pw_9_relu (ReLU)       (None, 14, 14, 512)       0         \n",
            "                                                                 \n",
            " conv_dw_10 (DepthwiseConv2  (None, 14, 14, 512)       4608      \n",
            " D)                                                              \n",
            "                                                                 \n",
            " conv_dw_10_bn (BatchNormal  (None, 14, 14, 512)       2048      \n",
            " ization)                                                        \n",
            "                                                                 \n",
            " conv_dw_10_relu (ReLU)      (None, 14, 14, 512)       0         \n",
            "                                                                 \n",
            " conv_pw_10 (Conv2D)         (None, 14, 14, 512)       262144    \n",
            "                                                                 \n",
            " conv_pw_10_bn (BatchNormal  (None, 14, 14, 512)       2048      \n",
            " ization)                                                        \n",
            "                                                                 \n",
            " conv_pw_10_relu (ReLU)      (None, 14, 14, 512)       0         \n",
            "                                                                 \n",
            " conv_dw_11 (DepthwiseConv2  (None, 14, 14, 512)       4608      \n",
            " D)                                                              \n",
            "                                                                 \n",
            " conv_dw_11_bn (BatchNormal  (None, 14, 14, 512)       2048      \n",
            " ization)                                                        \n",
            "                                                                 \n",
            " conv_dw_11_relu (ReLU)      (None, 14, 14, 512)       0         \n",
            "                                                                 \n",
            " conv_pw_11 (Conv2D)         (None, 14, 14, 512)       262144    \n",
            "                                                                 \n",
            " conv_pw_11_bn (BatchNormal  (None, 14, 14, 512)       2048      \n",
            " ization)                                                        \n",
            "                                                                 \n",
            " conv_pw_11_relu (ReLU)      (None, 14, 14, 512)       0         \n",
            "                                                                 \n",
            " conv_pad_12 (ZeroPadding2D  (None, 15, 15, 512)       0         \n",
            " )                                                               \n",
            "                                                                 \n",
            " conv_dw_12 (DepthwiseConv2  (None, 7, 7, 512)         4608      \n",
            " D)                                                              \n",
            "                                                                 \n",
            " conv_dw_12_bn (BatchNormal  (None, 7, 7, 512)         2048      \n",
            " ization)                                                        \n",
            "                                                                 \n",
            " conv_dw_12_relu (ReLU)      (None, 7, 7, 512)         0         \n",
            "                                                                 \n",
            " conv_pw_12 (Conv2D)         (None, 7, 7, 1024)        524288    \n",
            "                                                                 \n",
            " conv_pw_12_bn (BatchNormal  (None, 7, 7, 1024)        4096      \n",
            " ization)                                                        \n",
            "                                                                 \n",
            " conv_pw_12_relu (ReLU)      (None, 7, 7, 1024)        0         \n",
            "                                                                 \n",
            " conv_dw_13 (DepthwiseConv2  (None, 7, 7, 1024)        9216      \n",
            " D)                                                              \n",
            "                                                                 \n",
            " conv_dw_13_bn (BatchNormal  (None, 7, 7, 1024)        4096      \n",
            " ization)                                                        \n",
            "                                                                 \n",
            " conv_dw_13_relu (ReLU)      (None, 7, 7, 1024)        0         \n",
            "                                                                 \n",
            " conv_pw_13 (Conv2D)         (None, 7, 7, 1024)        1048576   \n",
            "                                                                 \n",
            " conv_pw_13_bn (BatchNormal  (None, 7, 7, 1024)        4096      \n",
            " ization)                                                        \n",
            "                                                                 \n",
            " conv_pw_13_relu (ReLU)      (None, 7, 7, 1024)        0         \n",
            "                                                                 \n",
            "=================================================================\n",
            "Total params: 3228864 (12.32 MB)\n",
            "Trainable params: 0 (0.00 Byte)\n",
            "Non-trainable params: 3228864 (12.32 MB)\n",
            "_________________________________________________________________\n"
          ]
        }
      ],
      "source": [
        "base_model.trainable = False\n",
        "base_model.summary()"
      ]
    },
    {
      "cell_type": "markdown",
      "metadata": {
        "id": "HuxCf8G6sqpB"
      },
      "source": [
        "Mengelompokan 3 jenis kulit wajah dengan deep learning"
      ]
    },
    {
      "cell_type": "code",
      "execution_count": 9,
      "metadata": {
        "id": "458JfW3jsmGz"
      },
      "outputs": [],
      "source": [
        "import keras\n",
        "from keras import backend as K\n",
        "from keras.models import Sequential\n",
        "from keras import layers\n",
        "from keras.utils import to_categorical\n",
        "\n",
        "from sklearn.model_selection import train_test_split\n"
      ]
    },
    {
      "cell_type": "markdown",
      "metadata": {
        "id": "A8af2puKstAu"
      },
      "source": [
        "Mempersiapkan Data Masukkan Pengujian\n"
      ]
    },
    {
      "cell_type": "code",
      "execution_count": 10,
      "metadata": {
        "colab": {
          "base_uri": "https://localhost:8080/",
          "height": 0
        },
        "id": "NOuYI3vlP-hN",
        "outputId": "453b9d47-2a5f-409c-f1b0-c72a115da19b"
      },
      "outputs": [
        {
          "output_type": "stream",
          "name": "stdout",
          "text": [
            "y_test2 (one-hot encoded labels):\n",
            " [[0. 1. 0.]\n",
            " [0. 1. 0.]\n",
            " [0. 1. 0.]\n",
            " [0. 1. 0.]\n",
            " [0. 1. 0.]\n",
            " [0. 1. 0.]\n",
            " [0. 1. 0.]\n",
            " [0. 1. 0.]\n",
            " [0. 1. 0.]\n",
            " [0. 1. 0.]]\n",
            "X_test3 shape: (420, 224, 224, 3)\n",
            "y_test3 shape: (420, 3)\n"
          ]
        }
      ],
      "source": [
        "from tensorflow.keras.utils import to_categorical\n",
        "\n",
        "# Definisikan kamus untuk mengonversi label-string ke angka\n",
        "label_to_index = {'dry': 0, 'normal': 1, 'oily': 2}\n",
        "\n",
        "# Konversi label-string di y_test ke angka menggunakan kamus\n",
        "y_test_numeric = [label_to_index[label] for label in y_test]\n",
        "\n",
        "# Konversi y_test_numeric menjadi format one-hot encoding\n",
        "y_test2 = to_categorical(y_test_numeric, num_classes = 3)\n",
        "\n",
        "# Memastikan X_test dan y_test2 memiliki format yang benar\n",
        "X_test3, y_test3 = X_test, y_test2\n",
        "\n",
        "# Menampilkan hasil untuk verifikasi\n",
        "print(\"y_test2 (one-hot encoded labels):\\n\", y_test2[:10])\n",
        "print(\"X_test3 shape:\", X_test3.shape)\n",
        "print(\"y_test3 shape:\", y_test3.shape)\n"
      ]
    },
    {
      "cell_type": "markdown",
      "metadata": {
        "id": "EvNL_1251j6k"
      },
      "source": [
        "Pembuatan Model (Menambah Model)"
      ]
    },
    {
      "cell_type": "code",
      "execution_count": 11,
      "metadata": {
        "colab": {
          "base_uri": "https://localhost:8080/",
          "height": 0
        },
        "id": "Uj5MBDBj1oN0",
        "outputId": "148a2971-e6d1-4fd4-bd0f-6a73facbde6d"
      },
      "outputs": [
        {
          "output_type": "stream",
          "name": "stdout",
          "text": [
            "Model: \"sequential\"\n",
            "_________________________________________________________________\n",
            " Layer (type)                Output Shape              Param #   \n",
            "=================================================================\n",
            " mobilenet_1.00_224 (Functi  (None, 7, 7, 1024)        3228864   \n",
            " onal)                                                           \n",
            "                                                                 \n",
            " conv2d (Conv2D)             (None, 5, 5, 32)          294944    \n",
            "                                                                 \n",
            " global_average_pooling2d (  (None, 32)                0         \n",
            " GlobalAveragePooling2D)                                         \n",
            "                                                                 \n",
            " dense (Dense)               (None, 3)                 99        \n",
            "                                                                 \n",
            "=================================================================\n",
            "Total params: 3523907 (13.44 MB)\n",
            "Trainable params: 295043 (1.13 MB)\n",
            "Non-trainable params: 3228864 (12.32 MB)\n",
            "_________________________________________________________________\n"
          ]
        }
      ],
      "source": [
        "#learning_rate = 0.1\n",
        "#optimizer = tf.keras.optimizers.Adam(learning_rate=learning_rate)\n",
        "model = tf.keras.Sequential([\n",
        "    base_model,\n",
        "    tf.keras.layers.Conv2D(32, 3, activation='relu'),\n",
        "    #tf.keras.layers. Dropout (0.2),\n",
        "    tf.keras.layers.GlobalAveragePooling2D(),\n",
        "    tf.keras.layers. Dense(3, activation ='softmax')\n",
        "    ])\n",
        "\n",
        "model.compile(\"adam\", loss=\"categorical_crossentropy\", metrics = [\"acc\"])\n",
        "model.summary()"
      ]
    },
    {
      "cell_type": "markdown",
      "metadata": {
        "id": "L7y_7mlT2NRh"
      },
      "source": [
        "Pelatihan"
      ]
    },
    {
      "cell_type": "code",
      "execution_count": 12,
      "metadata": {
        "colab": {
          "base_uri": "https://localhost:8080/",
          "height": 0
        },
        "id": "iG5UzmCbsvet",
        "outputId": "394b5167-ee39-4968-da5f-83eee93e5c8d"
      },
      "outputs": [
        {
          "output_type": "stream",
          "name": "stderr",
          "text": [
            "<ipython-input-12-c0b2ed21905b>:15: UserWarning: `Model.fit_generator` is deprecated and will be removed in a future version. Please use `Model.fit`, which supports generators.\n",
            "  history = model.fit_generator(train_generator,\n"
          ]
        },
        {
          "output_type": "stream",
          "name": "stdout",
          "text": [
            "Epoch 1/50\n",
            "3/3 [==============================] - 20s 3s/step - loss: 0.9575 - acc: 0.5179 - val_loss: 0.3575 - val_acc: 0.8095\n",
            "Epoch 2/50\n",
            "3/3 [==============================] - 2s 531ms/step - loss: 0.4204 - acc: 0.8452 - val_loss: 0.3329 - val_acc: 0.8571\n",
            "Epoch 3/50\n",
            "3/3 [==============================] - 2s 534ms/step - loss: 0.2222 - acc: 0.9048 - val_loss: 0.3707 - val_acc: 0.8690\n",
            "Epoch 4/50\n",
            "3/3 [==============================] - 2s 627ms/step - loss: 0.1398 - acc: 0.9554 - val_loss: 0.2236 - val_acc: 0.9167\n",
            "Epoch 5/50\n",
            "3/3 [==============================] - 2s 537ms/step - loss: 0.0719 - acc: 0.9851 - val_loss: 0.1781 - val_acc: 0.9286\n",
            "Epoch 6/50\n",
            "3/3 [==============================] - 2s 720ms/step - loss: 0.0531 - acc: 0.9881 - val_loss: 0.1907 - val_acc: 0.9405\n",
            "Epoch 7/50\n",
            "3/3 [==============================] - 2s 751ms/step - loss: 0.0344 - acc: 0.9940 - val_loss: 0.2005 - val_acc: 0.9167\n",
            "Epoch 8/50\n",
            "3/3 [==============================] - 1s 575ms/step - loss: 0.0205 - acc: 1.0000 - val_loss: 0.1894 - val_acc: 0.9405\n",
            "Epoch 9/50\n",
            "3/3 [==============================] - 1s 576ms/step - loss: 0.0136 - acc: 1.0000 - val_loss: 0.1856 - val_acc: 0.9405\n",
            "Epoch 10/50\n",
            "3/3 [==============================] - 1s 460ms/step - loss: 0.0094 - acc: 1.0000 - val_loss: 0.1927 - val_acc: 0.9405\n",
            "Epoch 11/50\n",
            "3/3 [==============================] - 1s 476ms/step - loss: 0.0073 - acc: 1.0000 - val_loss: 0.1927 - val_acc: 0.9405\n",
            "Epoch 12/50\n",
            "3/3 [==============================] - 1s 569ms/step - loss: 0.0057 - acc: 1.0000 - val_loss: 0.1952 - val_acc: 0.9286\n",
            "Epoch 13/50\n",
            "3/3 [==============================] - 2s 740ms/step - loss: 0.0048 - acc: 1.0000 - val_loss: 0.1964 - val_acc: 0.9286\n",
            "Epoch 14/50\n",
            "3/3 [==============================] - 2s 583ms/step - loss: 0.0040 - acc: 1.0000 - val_loss: 0.1970 - val_acc: 0.9405\n",
            "Epoch 15/50\n",
            "3/3 [==============================] - 1s 493ms/step - loss: 0.0033 - acc: 1.0000 - val_loss: 0.1975 - val_acc: 0.9405\n",
            "Epoch 16/50\n",
            "3/3 [==============================] - 1s 571ms/step - loss: 0.0028 - acc: 1.0000 - val_loss: 0.1956 - val_acc: 0.9405\n",
            "Epoch 17/50\n",
            "3/3 [==============================] - 1s 501ms/step - loss: 0.0024 - acc: 1.0000 - val_loss: 0.1939 - val_acc: 0.9405\n",
            "Epoch 18/50\n",
            "3/3 [==============================] - 1s 470ms/step - loss: 0.0022 - acc: 1.0000 - val_loss: 0.1945 - val_acc: 0.9405\n",
            "Epoch 19/50\n",
            "3/3 [==============================] - 1s 503ms/step - loss: 0.0019 - acc: 1.0000 - val_loss: 0.1958 - val_acc: 0.9405\n",
            "Epoch 20/50\n",
            "3/3 [==============================] - 1s 492ms/step - loss: 0.0018 - acc: 1.0000 - val_loss: 0.1974 - val_acc: 0.9405\n",
            "Epoch 21/50\n",
            "3/3 [==============================] - 2s 502ms/step - loss: 0.0016 - acc: 1.0000 - val_loss: 0.1996 - val_acc: 0.9405\n",
            "Epoch 22/50\n",
            "3/3 [==============================] - 1s 577ms/step - loss: 0.0015 - acc: 1.0000 - val_loss: 0.2012 - val_acc: 0.9405\n",
            "Epoch 23/50\n",
            "3/3 [==============================] - 2s 698ms/step - loss: 0.0014 - acc: 1.0000 - val_loss: 0.2029 - val_acc: 0.9405\n",
            "Epoch 24/50\n",
            "3/3 [==============================] - 1s 500ms/step - loss: 0.0014 - acc: 1.0000 - val_loss: 0.2032 - val_acc: 0.9405\n",
            "Epoch 25/50\n",
            "3/3 [==============================] - 1s 465ms/step - loss: 0.0013 - acc: 1.0000 - val_loss: 0.2049 - val_acc: 0.9405\n",
            "Epoch 26/50\n",
            "3/3 [==============================] - 1s 482ms/step - loss: 0.0012 - acc: 1.0000 - val_loss: 0.2066 - val_acc: 0.9405\n",
            "Epoch 27/50\n",
            "3/3 [==============================] - 1s 513ms/step - loss: 0.0012 - acc: 1.0000 - val_loss: 0.2082 - val_acc: 0.9405\n",
            "Epoch 28/50\n",
            "3/3 [==============================] - 2s 673ms/step - loss: 0.0011 - acc: 1.0000 - val_loss: 0.2098 - val_acc: 0.9405\n",
            "Epoch 29/50\n",
            "3/3 [==============================] - 1s 560ms/step - loss: 0.0010 - acc: 1.0000 - val_loss: 0.2108 - val_acc: 0.9405\n",
            "Epoch 30/50\n",
            "3/3 [==============================] - 1s 475ms/step - loss: 0.0010 - acc: 1.0000 - val_loss: 0.2119 - val_acc: 0.9405\n",
            "Epoch 31/50\n",
            "3/3 [==============================] - 1s 575ms/step - loss: 9.6621e-04 - acc: 1.0000 - val_loss: 0.2124 - val_acc: 0.9405\n",
            "Epoch 32/50\n",
            "3/3 [==============================] - 1s 502ms/step - loss: 9.3137e-04 - acc: 1.0000 - val_loss: 0.2128 - val_acc: 0.9405\n",
            "Epoch 33/50\n",
            "3/3 [==============================] - 2s 625ms/step - loss: 8.9086e-04 - acc: 1.0000 - val_loss: 0.2132 - val_acc: 0.9405\n",
            "Epoch 34/50\n",
            "3/3 [==============================] - 2s 603ms/step - loss: 8.5981e-04 - acc: 1.0000 - val_loss: 0.2139 - val_acc: 0.9405\n",
            "Epoch 35/50\n",
            "3/3 [==============================] - 2s 655ms/step - loss: 8.3564e-04 - acc: 1.0000 - val_loss: 0.2141 - val_acc: 0.9405\n",
            "Epoch 36/50\n",
            "3/3 [==============================] - 1s 580ms/step - loss: 8.0203e-04 - acc: 1.0000 - val_loss: 0.2148 - val_acc: 0.9405\n",
            "Epoch 37/50\n",
            "3/3 [==============================] - 1s 495ms/step - loss: 7.7680e-04 - acc: 1.0000 - val_loss: 0.2154 - val_acc: 0.9405\n",
            "Epoch 38/50\n",
            "3/3 [==============================] - 1s 495ms/step - loss: 7.4996e-04 - acc: 1.0000 - val_loss: 0.2156 - val_acc: 0.9405\n",
            "Epoch 39/50\n",
            "3/3 [==============================] - 1s 482ms/step - loss: 7.2646e-04 - acc: 1.0000 - val_loss: 0.2162 - val_acc: 0.9405\n",
            "Epoch 40/50\n",
            "3/3 [==============================] - 1s 568ms/step - loss: 7.0014e-04 - acc: 1.0000 - val_loss: 0.2168 - val_acc: 0.9405\n",
            "Epoch 41/50\n",
            "3/3 [==============================] - 2s 666ms/step - loss: 6.7984e-04 - acc: 1.0000 - val_loss: 0.2176 - val_acc: 0.9405\n",
            "Epoch 42/50\n",
            "3/3 [==============================] - 1s 457ms/step - loss: 6.6039e-04 - acc: 1.0000 - val_loss: 0.2181 - val_acc: 0.9405\n",
            "Epoch 43/50\n",
            "3/3 [==============================] - 1s 547ms/step - loss: 6.3918e-04 - acc: 1.0000 - val_loss: 0.2189 - val_acc: 0.9405\n",
            "Epoch 44/50\n",
            "3/3 [==============================] - 1s 481ms/step - loss: 6.1978e-04 - acc: 1.0000 - val_loss: 0.2196 - val_acc: 0.9405\n",
            "Epoch 45/50\n",
            "3/3 [==============================] - 1s 552ms/step - loss: 6.0043e-04 - acc: 1.0000 - val_loss: 0.2202 - val_acc: 0.9405\n",
            "Epoch 46/50\n",
            "3/3 [==============================] - 1s 561ms/step - loss: 5.8445e-04 - acc: 1.0000 - val_loss: 0.2210 - val_acc: 0.9405\n",
            "Epoch 47/50\n",
            "3/3 [==============================] - 2s 615ms/step - loss: 5.6774e-04 - acc: 1.0000 - val_loss: 0.2214 - val_acc: 0.9405\n",
            "Epoch 48/50\n",
            "3/3 [==============================] - 2s 569ms/step - loss: 5.5092e-04 - acc: 1.0000 - val_loss: 0.2220 - val_acc: 0.9405\n",
            "Epoch 49/50\n",
            "3/3 [==============================] - 1s 476ms/step - loss: 5.3361e-04 - acc: 1.0000 - val_loss: 0.2225 - val_acc: 0.9405\n",
            "Epoch 50/50\n",
            "3/3 [==============================] - 1s 475ms/step - loss: 5.2064e-04 - acc: 1.0000 - val_loss: 0.2225 - val_acc: 0.9405\n"
          ]
        }
      ],
      "source": [
        "'''\n",
        "from keras.callbacks import EarlyStopping, ModelCheckpoint\n",
        "ckpt = ModelCheckpoint(\"klasifikasi_jenis_kulit.h5\",\n",
        "                       monitor='val_loss',\n",
        "                       verbose=1,\n",
        "                       save_best_only=True,\n",
        "                       save_weights_only=False)\n",
        "early_stopping = EarlyStopping(monitor='val_loss',\n",
        "                               patience=5,\n",
        "                               verbose=1)\n",
        "#Menyimpan file model bobot yang terbaik selana pelatihan (dalam format keras \"h5\")\n",
        "#ckpt RodelCheckpoint(\"klasifikasi Beras Tumpukan.h5\", monitor-'val loss, verbose-1, save best_only-True, save\n",
        "'''\n",
        "\n",
        "history = model.fit_generator(train_generator,\n",
        "                            epochs=50,\n",
        "                            validation_data=val_generator)\n",
        "                            #callbacks=[ckpt, early_stopping])\n",
        "#history model.fit(xX traini, yy trains, batch_size-120, epochs 100, validation data-(X_valid),y_valid3),cal"
      ]
    },
    {
      "cell_type": "markdown",
      "metadata": {
        "id": "ca_zeKlks0ad"
      },
      "source": [
        "Menggambarkan Hasil Pelatihan\n"
      ]
    },
    {
      "cell_type": "code",
      "execution_count": 13,
      "metadata": {
        "id": "DplttHeXs05S",
        "colab": {
          "base_uri": "https://localhost:8080/",
          "height": 846
        },
        "outputId": "bda1a62f-a519-4040-c109-8f0a64025bf5"
      },
      "outputs": [
        {
          "output_type": "display_data",
          "data": {
            "text/plain": [
              "<Figure size 640x480 with 1 Axes>"
            ],
            "image/png": "[encoded data removed]"
          },
          "metadata": {}
        },
        {
          "output_type": "display_data",
          "data": {
            "text/plain": [
              "<Figure size 640x480 with 1 Axes>"
            ],
            "image/png": "[encoded data removed]"
          },
          "metadata": {}
        }
      ],
      "source": [
        "plt.plot(history.history[\"acc\"], label=\"Akurasi Pelatihan\")\n",
        "plt.plot(history.history[\"val_acc\"], label = \"Validasi Akurasi\")\n",
        "plt.legend()\n",
        "plt.show()\n",
        "\n",
        "plt.plot(history.history[\"loss\"], label=\"Kesalahan Pelatihan\")\n",
        "plt.plot(history.history[\"val_loss\"], label=\"Validasi Kesalahan\")\n",
        "plt.legend()\n",
        "plt.show()"
      ]
    },
    {
      "cell_type": "code",
      "execution_count": 14,
      "metadata": {
        "id": "VX4LwHfHs19C",
        "colab": {
          "base_uri": "https://localhost:8080/",
          "height": 0
        },
        "outputId": "1f19269d-7f05-453b-a5f4-61b8da71d078"
      },
      "outputs": [
        {
          "output_type": "stream",
          "name": "stdout",
          "text": [
            "Number of trainable variables = 4\n"
          ]
        }
      ],
      "source": [
        "print('Number of trainable variables = {}'.format(len(model.trainable_variables)))"
      ]
    },
    {
      "cell_type": "markdown",
      "metadata": {
        "id": "cFX5gIEqs4hp"
      },
      "source": [
        "Menggunakan Model\n"
      ]
    },
    {
      "cell_type": "code",
      "execution_count": 15,
      "metadata": {
        "id": "njIxBAdGs6KT",
        "colab": {
          "base_uri": "https://localhost:8080/",
          "height": 0
        },
        "outputId": "4f7eb18b-23dc-499e-f7e3-582646628142"
      },
      "outputs": [
        {
          "output_type": "stream",
          "name": "stdout",
          "text": [
            "<keras.src.preprocessing.image.DirectoryIterator object at 0x7e0e5433ba60>\n"
          ]
        }
      ],
      "source": [
        "print(train_generator)"
      ]
    },
    {
      "cell_type": "code",
      "execution_count": 16,
      "metadata": {
        "id": "MmGaNhrz4IfN",
        "colab": {
          "base_uri": "https://localhost:8080/",
          "height": 0
        },
        "outputId": "5e90ba41-2a62-4516-b619-e5522c2d44b7"
      },
      "outputs": [
        {
          "output_type": "stream",
          "name": "stdout",
          "text": [
            "Labelnya adalah:  [1. 0. 0.]\n",
            "1/1 [==============================] - 1s 906ms/step\n",
            "Prediksinya adalah [9.9994349e-01 2.8585268e-05 2.7943923e-05]\n"
          ]
        }
      ],
      "source": [
        "#Prediksi Label Validasi dengan Pelatihan\n",
        "\n",
        "n = 44\n",
        "input_image = image_batch[n][np.newaxis,...]\n",
        "print(\"Labelnya adalah: \", label_batch[n])\n",
        "\n",
        "predictions = model.predict(input_image)\n",
        "print(\"Prediksinya adalah\", predictions[0])"
      ]
    },
    {
      "cell_type": "markdown",
      "metadata": {
        "id": "Pxbm9Gpas7-l"
      },
      "source": [
        "Evaluasi\n"
      ]
    },
    {
      "cell_type": "code",
      "execution_count": 17,
      "metadata": {
        "id": "ZGGPcEJis8Z2",
        "colab": {
          "base_uri": "https://localhost:8080/",
          "height": 0
        },
        "outputId": "06253624-1af9-448c-9628-f1626a1f5149"
      },
      "outputs": [
        {
          "output_type": "stream",
          "name": "stdout",
          "text": [
            "['loss', 'acc']\n",
            "14/14 [==============================] - 2s 67ms/step - loss: 0.0390 - acc: 0.9881\n",
            "[0.038990311324596405, 0.988095223903656]\n"
          ]
        }
      ],
      "source": [
        "#Memeriksa matriks model\n",
        "print(model.metrics_names)\n",
        "#Evaluasi data test\n",
        "print(model.evaluate(x= X_test3, y = y_test3))"
      ]
    },
    {
      "cell_type": "code",
      "execution_count": 18,
      "metadata": {
        "id": "LDVMNrVw43Au",
        "colab": {
          "base_uri": "https://localhost:8080/",
          "height": 0
        },
        "outputId": "1697d88e-647f-4e6c-c789-2bb95472267c"
      },
      "outputs": [
        {
          "output_type": "stream",
          "name": "stdout",
          "text": [
            "14/14 [==============================] - 0s 33ms/step\n",
            "[1 1 1 1 1 1 1 1 1 1 1 1 1 1 1 1 1 1 1 1 1 1 1 1 1 1 1 1 1 1 1 1 1 1 1 1 1\n",
            " 1 1 1 1 1 1 1 1 1 1 1 1 1 1 1 1 1 1 1 1 1 1 1 1 1 1 1 1 1 1 1 1 1 1 1 1 1\n",
            " 1 1 1 1 1 1 1 1 1 1 1 1 1 1 1 1 1 1 1 1 1 1 1 1 1 1 1 1 1 1 1 1 1 1 1 1 1\n",
            " 1 1 1 1 1 1 1 1 1 1 1 1 1 1 1 1 1 1 1 1 1 1 1 1 1 1 1 1 1 2 2 2 2 2 2 2 2\n",
            " 2 2 2 2 2 2 2 2 2 2 2 2 2 2 2 2 2 2 2 2 2 2 2 2 2 2 2 2 2 2 2 2 2 2 2 2 2\n",
            " 2 2 2 2 2 2 2 2 2 2 2 2 2 2 2 2 2 2 2 2 2 2 2 2 2 2 2 2 2 2 2 2 2 2 2 2 2\n",
            " 2 2 2 2 2 2 2 2 2 2 2 2 2 2 2 2 2 2 2 2 2 2 2 2 2 2 2 2 2 2 2 2 2 2 2 2 2\n",
            " 2 2 2 2 2 2 2 2 2 2 2 2 2 2 2 2 2 2 2 2 2 0 0 0 0 0 0 0 0 0 0 0 0 0 0 0 0\n",
            " 0 0 0 0 0 0 0 0 0 0 0 0 0 0 0 0 0 0 0 0 0 0 0 0 0 0 0 0 0 0 0 0 0 0 0 0 0\n",
            " 0 0 0 0 0 0 0 0 0 0 0 0 0 0 0 0 0 0 0 0 0 0 0 0 0 0 0 0 0 0 0 0 0 0 0 0 0\n",
            " 0 0 0 0 0 0 0 0 0 0 0 0 0 0 0 0 0 0 0 0 0 0 0 0 0 0 0 0 0 0 0 0 0 0 0 0 0\n",
            " 0 0 0 0 0 0 0 0 0 0 0 0 0]\n",
            "[1 1 1 1 1 1 1 1 1 1 1 1 1 1 1 1 1 1 1 1 1 1 1 1 1 1 1 2 1 1 1 1 1 1 1 1 1\n",
            " 1 1 1 1 1 1 1 1 1 1 1 1 1 1 1 1 1 1 1 1 1 1 1 1 1 1 1 1 1 1 1 1 1 1 1 1 1\n",
            " 1 1 1 1 1 1 1 1 1 1 1 1 1 1 1 1 1 1 1 1 1 1 1 1 1 1 1 1 1 1 1 1 1 1 1 1 1\n",
            " 1 1 1 1 1 1 1 1 1 1 1 1 1 1 1 1 1 1 1 1 1 1 1 1 1 1 1 1 1 2 2 2 2 2 2 2 2\n",
            " 2 2 2 2 1 2 2 2 2 2 2 2 2 2 2 2 1 2 2 2 2 2 2 2 2 2 2 2 2 2 2 2 2 2 2 2 2\n",
            " 2 2 2 2 2 2 2 2 2 2 2 2 2 2 2 2 2 2 2 2 2 2 2 2 2 2 2 2 2 2 2 2 2 2 2 2 2\n",
            " 2 2 2 2 2 2 2 2 2 2 2 2 2 1 2 2 2 2 2 2 2 2 2 2 2 2 2 2 2 2 2 2 2 2 2 2 2\n",
            " 2 2 2 2 2 2 2 2 2 2 2 2 2 2 2 2 2 2 2 2 2 0 0 0 0 0 0 0 0 0 0 0 0 0 0 0 0\n",
            " 0 0 0 0 0 0 0 0 0 0 0 0 0 0 0 0 0 0 0 0 0 0 0 0 0 0 0 0 0 0 0 0 0 0 0 0 0\n",
            " 0 0 0 0 0 0 0 0 0 0 0 0 0 0 0 0 0 0 0 0 0 0 0 0 0 0 0 0 0 0 0 0 0 0 0 0 0\n",
            " 0 0 0 0 0 0 0 0 0 0 0 0 0 0 0 0 0 0 0 0 2 0 0 0 0 0 0 0 0 0 0 0 0 0 0 0 0\n",
            " 0 0 0 0 0 0 0 0 0 0 0 0 0]\n"
          ]
        }
      ],
      "source": [
        "#Menampilkan matriks yang benar dan matriks hasil prediksi\n",
        "#Label yang benar\n",
        "\n",
        "y_true = np.argmax(y_test2,axis=1)\n",
        "\n",
        "#Label prediksi\n",
        "Y_pred = model.predict(X_test)\n",
        "y_pred = np.argmax(Y_pred, axis=1)\n",
        "\n",
        "print(y_true)\n",
        "print(y_pred)"
      ]
    },
    {
      "cell_type": "markdown",
      "metadata": {
        "id": "m1yIEqrEtFER"
      },
      "source": [
        "Prediksi Gambar Individual\n"
      ]
    },
    {
      "cell_type": "code",
      "execution_count": 19,
      "metadata": {
        "id": "dTa0fDHitHVr",
        "colab": {
          "base_uri": "https://localhost:8080/",
          "height": 543
        },
        "outputId": "7e5bedc0-84c3-4cc6-c590-11906bd71da8"
      },
      "outputs": [
        {
          "output_type": "display_data",
          "data": {
            "text/plain": [
              "<Figure size 640x480 with 1 Axes>"
            ],
            "image/png": "[encoded data removed]"
          },
          "metadata": {}
        },
        {
          "output_type": "stream",
          "name": "stdout",
          "text": [
            "Label yang benar adalah: 1 : normal\n",
            "1/1 [==============================] - 0s 19ms/step\n",
            "Nilai yang diprediksi adalah: [7.5815154e-10 9.9998426e-01 1.5727675e-05]\n",
            "Label yang diprediksi adalah: 1 : normal\n",
            "Prediksi benar\n",
            "Rekomendasi: Untuk kulit normal, kandungan Phyto-Retinol dan Hyaluronic Acid sangat bagus untuk mencegah penuaan, hidrasi, dan menjaga kulit tetap bercahaya.\n"
          ]
        }
      ],
      "source": [
        "n = 20 #Jangan melampaui (nilai dari gambar test 1)\n",
        "labels = ['dry', 'normal', 'oily']\n",
        "\n",
        "plt.imshow(X_test[n])\n",
        "plt.show()\n",
        "\n",
        "true_label = np.argmax(y_test2, axis=1) [n]\n",
        "print(\"Label yang benar adalah:\", true_label,\":\", labels[true_label])\n",
        "prediction = model.predict(X_test[n][ np.newaxis,...]) [0]\n",
        "print(\"Nilai yang diprediksi adalah:\", prediction)\n",
        "predicted_label = np.argmax(prediction)\n",
        "print(\"Label yang diprediksi adalah:\", predicted_label,\":\", labels[predicted_label])\n",
        "\n",
        "if true_label == predicted_label:\n",
        "    print(\"Prediksi benar\")\n",
        "\n",
        "else:\n",
        "    print(\"Prediksi salah\")\n",
        "\n",
        "#if predicted_label == 0:  # Jika jenis kulit adalah acne\n",
        "    #recommendation = \"Rekomendasi: Gunakan produk dengan kandungan salicylic acid, sulfur, mandelic acid untuk mengeringkan jerawat, dan juga mengontrol sebum di kulit wajah.\"\n",
        "if predicted_label == 0:  # Jika jenis kulit adalah dry\n",
        "    recommendation = \"Rekomendasi: Untuk kulit kering, pilihlah kandungan Hyaluronic Acid, vitamin E, essencial acid yang bermanfaat untuk membantu melembabkan kulit.\"\n",
        "elif predicted_label == 1:  # Jika jenis kulit adalah normal\n",
        "    recommendation = \"Rekomendasi: Untuk kulit normal, kandungan Phyto-Retinol dan Hyaluronic Acid sangat bagus untuk mencegah penuaan, hidrasi, dan menjaga kulit tetap bercahaya.\"\n",
        "elif predicted_label == 2:  # Jika jenis kulit adalah oily\n",
        "    recommendation = \"Rekomendasi: Gunakan skincare yang, mengandung kaolin clay,beta hydroxy acid (BHA), Asam Salisilat dan  Tea Tree Oil untuk membantu mengurangi minyak berlebih pada wajah.\"\n",
        "else:\n",
        "    recommendation = \"Rekomendasi tidak tersedia untuk jenis kulit ini.\"\n",
        "\n",
        "# Menampilkan rekomendasi skincare\n",
        "print(recommendation)\n"
      ]
    },
    {
      "cell_type": "markdown",
      "metadata": {
        "id": "uL6uodDdtMOf"
      },
      "source": [
        "Confusion Matrix\n"
      ]
    },
    {
      "cell_type": "code",
      "source": [
        "from sklearn.metrics import confusion_matrix, classification_report\n",
        "from sklearn.utils.multiclass import unique_labels\n",
        "import numpy as np\n",
        "import matplotlib.pyplot as plt\n",
        "\n",
        "def plot_confusion_matrix(y_true, y_pred, classes,\n",
        "                          normalize=False,\n",
        "                          title=None,\n",
        "                          cmap=plt.cm.Blues):\n",
        "\n",
        "    if not title:\n",
        "        if normalize:\n",
        "            title = 'Normalized confusion matrix'\n",
        "        else:\n",
        "            title = 'Confusion matrix, without normalization'\n",
        "\n",
        "    # Compute confusion matrix\n",
        "    cm = confusion_matrix(y_true, y_pred)\n",
        "    # Only use the labels that appear in the data\n",
        "    classes = classes[unique_labels(y_true, y_pred)]\n",
        "\n",
        "    if normalize:\n",
        "        cm = cm.astype('float') / cm.sum(axis=1)[:, np.newaxis]\n",
        "        print(\"Normalized confusion matrix\")\n",
        "    else:\n",
        "        print('Confusion matrix, without normalization')\n",
        "    print(cm)\n",
        "\n",
        "    fig, ax = plt.subplots(figsize=(5,5))\n",
        "    im = ax.imshow(cm, interpolation='nearest', cmap=cmap)\n",
        "    ax.figure.colorbar(im, ax=ax)\n",
        "    # We want to show all ticks...\n",
        "    ax.set(xticks=np.arange(cm.shape[1]),\n",
        "           yticks=np.arange(cm.shape[0]),\n",
        "           # ... and label them with the respective list entries\n",
        "           xticklabels=classes, yticklabels=classes,\n",
        "           title=title,\n",
        "           ylabel='Label Benar',\n",
        "           xlabel='Label Prediksi')\n",
        "\n",
        "    # Rotate the tick labels and set their alignment.\n",
        "    plt.setp(ax.get_xticklabels(), rotation=45, ha=\"right\",\n",
        "             rotation_mode=\"anchor\")\n",
        "\n",
        "    # Loop over data dimensions and create text annotations.\n",
        "    fmt = '.2f' if normalize else 'd'\n",
        "    thresh = cm.max() / 2.\n",
        "    for i in range(cm.shape[0]):\n",
        "        for j in range(cm.shape[1]):\n",
        "            ax.text(j, i, format(cm[i, j], fmt),\n",
        "                    ha=\"center\", va=\"center\",\n",
        "                    color=\"white\" if cm[i, j] > thresh else \"black\")\n",
        "    fig.tight_layout()\n",
        "    return ax\n",
        "\n",
        "# Assuming y_true and y_pred are already defined\n",
        "# and labels is a list of class names\n",
        "\n",
        "np.set_printoptions(precision=2)\n",
        "plot_confusion_matrix(y_true, y_pred, classes=np.array(labels), normalize=True,\n",
        "                      title='Normalized confusion matrix')\n",
        "\n",
        "# Print classification report\n",
        "print(classification_report(y_true, y_pred, target_names=labels))\n"
      ],
      "metadata": {
        "colab": {
          "base_uri": "https://localhost:8080/",
          "height": 739
        },
        "id": "y_lTyai6tHQ2",
        "outputId": "b26e2450-838d-4248-9892-cb8549d5b9cc"
      },
      "execution_count": 20,
      "outputs": [
        {
          "output_type": "stream",
          "name": "stdout",
          "text": [
            "Normalized confusion matrix\n",
            "[[0.99 0.   0.01]\n",
            " [0.   0.99 0.01]\n",
            " [0.   0.02 0.98]]\n",
            "              precision    recall  f1-score   support\n",
            "\n",
            "         dry       1.00      0.99      1.00       140\n",
            "      normal       0.98      0.99      0.99       140\n",
            "        oily       0.99      0.98      0.98       140\n",
            "\n",
            "    accuracy                           0.99       420\n",
            "   macro avg       0.99      0.99      0.99       420\n",
            "weighted avg       0.99      0.99      0.99       420\n",
            "\n"
          ]
        },
        {
          "output_type": "display_data",
          "data": {
            "text/plain": [
              "<Figure size 500x500 with 2 Axes>"
            ],
            "image/png": "[encoded data removed]"
          },
          "metadata": {}
        }
      ]
    },
    {
      "cell_type": "markdown",
      "metadata": {
        "id": "bSeVn_BotXxU"
      },
      "source": [
        "Menyimpan dan Konversi ke \".tflite\"\n"
      ]
    },
    {
      "cell_type": "code",
      "execution_count": 23,
      "metadata": {
        "id": "tUSt0IKDtZPs",
        "colab": {
          "base_uri": "https://localhost:8080/"
        },
        "outputId": "db7a9852-8498-4cf7-e3ec-7ac4833c9562"
      },
      "outputs": [
        {
          "output_type": "stream",
          "name": "stderr",
          "text": [
            "WARNING:absl:`mobilenet_1.00_224_input` is not a valid tf.function parameter name. Sanitizing to `mobilenet_1_00_224_input`.\n",
            "WARNING:absl:`mobilenet_1.00_224_input` is not a valid tf.function parameter name. Sanitizing to `mobilenet_1_00_224_input`.\n",
            "WARNING:absl:`mobilenet_1.00_224_input` is not a valid tf.function parameter name. Sanitizing to `mobilenet_1_00_224_input`.\n"
          ]
        }
      ],
      "source": [
        "saved_model_dir ='save/model'\n",
        "tf.saved_model.save(model, saved_model_dir)\n",
        "\n",
        "converter = tf.lite.TFLiteConverter.from_saved_model(saved_model_dir)\n",
        "tflite_model = converter.convert()\n",
        "\n",
        "with open('Klasifikasi_Jenis_Kulit_Wajah_MobileNet_Baru.tflite', 'wb') as f:\n",
        "    f.write(tflite_model)"
      ]
    },
    {
      "cell_type": "code",
      "execution_count": null,
      "metadata": {
        "id": "jvTNhUlqJ4Bd"
      },
      "outputs": [],
      "source": []
    }
  ],
  "metadata": {
    "colab": {
      "provenance": [],
      "gpuType": "T4"
    },
    "kernelspec": {
      "display_name": "Python 3",
      "name": "python3"
    },
    "language_info": {
      "name": "python"
    },
    "accelerator": "GPU"
  },
  "nbformat": 4,
  "nbformat_minor": 0
}